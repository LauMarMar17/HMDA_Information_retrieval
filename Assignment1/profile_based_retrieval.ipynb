{
 "cells": [
  {
   "cell_type": "code",
   "execution_count": null,
   "metadata": {},
   "outputs": [],
   "source": [
    "! pip install -r requirements.txt"
   ]
  },
  {
   "cell_type": "markdown",
   "metadata": {},
   "source": [
    "# Get data and transform it from txt to csv"
   ]
  },
  {
   "cell_type": "code",
   "execution_count": 1,
   "metadata": {},
   "outputs": [],
   "source": [
    "# import csv\n",
    "\n",
    "# def txt_to_csv(input_file, output_file):\n",
    "#     with open(input_file, 'r') as txtfile, open(output_file, 'w', newline='') as csvfile:\n",
    "#         csv_writer = csv.writer(csvfile)\n",
    "#         for line in txtfile:\n",
    "#             # Dividir la línea utilizando \":::\" como separador\n",
    "#             parts = line.strip().split(\":::\")\n",
    "#             # Escribir las partes en el archivo CSV\n",
    "#             csv_writer.writerow(parts)\n",
    "   \n",
    "\n",
    "# txt_to_csv('../data/Movies/train_data.txt', '../data/Movies/train_data.csv')\n",
    "# txt_to_csv('../data/Movies/test_data.txt', '../data/Movies/test_data.csv')\n",
    "# txt_to_csv('../data/Movies/test_data_solution.txt', '../data/Movies/test_data_solution.csv')\n"
   ]
  },
  {
   "cell_type": "markdown",
   "metadata": {},
   "source": [
    "# Dataframe with Document names, lables and text"
   ]
  },
  {
   "cell_type": "code",
   "execution_count": 2,
   "metadata": {},
   "outputs": [
    {
     "data": {
      "text/html": [
       "<div>\n",
       "<style scoped>\n",
       "    .dataframe tbody tr th:only-of-type {\n",
       "        vertical-align: middle;\n",
       "    }\n",
       "\n",
       "    .dataframe tbody tr th {\n",
       "        vertical-align: top;\n",
       "    }\n",
       "\n",
       "    .dataframe thead th {\n",
       "        text-align: right;\n",
       "    }\n",
       "</style>\n",
       "<table border=\"1\" class=\"dataframe\">\n",
       "  <thead>\n",
       "    <tr style=\"text-align: right;\">\n",
       "      <th></th>\n",
       "      <th>title</th>\n",
       "      <th>genre</th>\n",
       "      <th>plot</th>\n",
       "    </tr>\n",
       "  </thead>\n",
       "  <tbody>\n",
       "    <tr>\n",
       "      <th>0</th>\n",
       "      <td>Edgar's Lunch (1998)</td>\n",
       "      <td>thriller</td>\n",
       "      <td>L.R. Brane loves his life - his car, his apar...</td>\n",
       "    </tr>\n",
       "    <tr>\n",
       "      <th>1</th>\n",
       "      <td>La guerra de papá (1977)</td>\n",
       "      <td>comedy</td>\n",
       "      <td>Spain, March 1964: Quico is a very naughty ch...</td>\n",
       "    </tr>\n",
       "    <tr>\n",
       "      <th>2</th>\n",
       "      <td>Off the Beaten Track (2010)</td>\n",
       "      <td>documentary</td>\n",
       "      <td>One year in the life of Albin and his family ...</td>\n",
       "    </tr>\n",
       "    <tr>\n",
       "      <th>3</th>\n",
       "      <td>Meu Amigo Hindu (2015)</td>\n",
       "      <td>drama</td>\n",
       "      <td>His father has died, he hasn't spoken with hi...</td>\n",
       "    </tr>\n",
       "    <tr>\n",
       "      <th>4</th>\n",
       "      <td>Er nu zhai (1955)</td>\n",
       "      <td>drama</td>\n",
       "      <td>Before he was known internationally as a mart...</td>\n",
       "    </tr>\n",
       "  </tbody>\n",
       "</table>\n",
       "</div>"
      ],
      "text/plain": [
       "                           title        genre  \\\n",
       "0          Edgar's Lunch (1998)      thriller   \n",
       "1      La guerra de papá (1977)        comedy   \n",
       "2   Off the Beaten Track (2010)   documentary   \n",
       "3        Meu Amigo Hindu (2015)         drama   \n",
       "4             Er nu zhai (1955)         drama   \n",
       "\n",
       "                                                plot  \n",
       "0   L.R. Brane loves his life - his car, his apar...  \n",
       "1   Spain, March 1964: Quico is a very naughty ch...  \n",
       "2   One year in the life of Albin and his family ...  \n",
       "3   His father has died, he hasn't spoken with hi...  \n",
       "4   Before he was known internationally as a mart...  "
      ]
     },
     "execution_count": 2,
     "metadata": {},
     "output_type": "execute_result"
    }
   ],
   "source": [
    "import pandas as pd\n",
    "train_df = pd.read_csv('../data/Movies/train_data.csv', header=None, usecols=[1,2,3], names=['title', 'genre', 'plot'])\n",
    "test_df = pd.read_csv('../data/Movies/test_data_solution.csv', header=None, usecols=[1,2,3], names=['title', 'genre', 'plot'])\n",
    "# Remove blank spaces in genre\n",
    "train_df['genre'] = train_df['genre'].str.strip()\n",
    "test_df['genre'] = test_df['genre'].str.strip()\n",
    "test_df.head()"
   ]
  },
  {
   "cell_type": "code",
   "execution_count": 3,
   "metadata": {},
   "outputs": [
    {
     "data": {
      "text/plain": [
       "array(['drama', 'thriller', 'adult', 'documentary', 'comedy', 'crime',\n",
       "       'reality-tv', 'horror', 'sport', 'animation', 'action', 'fantasy',\n",
       "       'short', 'sci-fi', 'music', 'adventure', 'talk-show', 'western',\n",
       "       'family', 'mystery', 'history', 'news', 'biography', 'romance',\n",
       "       'game-show', 'musical', 'war'], dtype=object)"
      ]
     },
     "execution_count": 3,
     "metadata": {},
     "output_type": "execute_result"
    }
   ],
   "source": [
    "# Genres:\n",
    "train_df['genre'].unique()"
   ]
  },
  {
   "cell_type": "markdown",
   "metadata": {},
   "source": [
    "# Text cleaning and processing steps\n",
    "1. Remove punctuations\n",
    "2. Convert text to tokens\n",
    "3. Remove tokens of length less than or equal to 3\n",
    "4. Remove stopwords using NLTK corpus stopwords list to match\n",
    "5. Apply stemming\n",
    "6. Apply lemmatization\n",
    "7. Add tags\n",
    "8. Create sentences"
   ]
  },
  {
   "cell_type": "code",
   "execution_count": 4,
   "metadata": {},
   "outputs": [
    {
     "name": "stderr",
     "output_type": "stream",
     "text": [
      "c:\\Users\\laura\\OneDrive - Universidad Politécnica de Madrid\\ABC_upm\\VSC\\HMDA_Information_retrieval\\Assignment1\\preprocess.py:27: SyntaxWarning: invalid escape sequence '\\s'\n",
      "  return text.apply(lambda x: re.split(\"\\s+\", x))\n"
     ]
    },
    {
     "data": {
      "text/html": [
       "<div>\n",
       "<style scoped>\n",
       "    .dataframe tbody tr th:only-of-type {\n",
       "        vertical-align: middle;\n",
       "    }\n",
       "\n",
       "    .dataframe tbody tr th {\n",
       "        vertical-align: top;\n",
       "    }\n",
       "\n",
       "    .dataframe thead th {\n",
       "        text-align: right;\n",
       "    }\n",
       "</style>\n",
       "<table border=\"1\" class=\"dataframe\">\n",
       "  <thead>\n",
       "    <tr style=\"text-align: right;\">\n",
       "      <th></th>\n",
       "      <th>title</th>\n",
       "      <th>genre</th>\n",
       "      <th>plot</th>\n",
       "      <th>no_punct</th>\n",
       "      <th>tokenized</th>\n",
       "      <th>no_small_words</th>\n",
       "      <th>no_stopwords</th>\n",
       "      <th>lemmatized</th>\n",
       "      <th>pos_tagged</th>\n",
       "      <th>processed_text</th>\n",
       "    </tr>\n",
       "  </thead>\n",
       "  <tbody>\n",
       "    <tr>\n",
       "      <th>0</th>\n",
       "      <td>Oscar et la dame rose (2009)</td>\n",
       "      <td>drama</td>\n",
       "      <td>Listening in to a conversation between his do...</td>\n",
       "      <td>listening in to a conversation between his doc...</td>\n",
       "      <td>[listening, in, to, a, conversation, between, ...</td>\n",
       "      <td>[listening, conversation, between, doctor, par...</td>\n",
       "      <td>[listening, conversation, doctor, parents, 10-...</td>\n",
       "      <td>[listening, conversation, doctor, parent, 10-y...</td>\n",
       "      <td>[(listening, VBG), (conversation, NN), (doctor...</td>\n",
       "      <td>listening conversation doctor parent 10-year-o...</td>\n",
       "    </tr>\n",
       "    <tr>\n",
       "      <th>1</th>\n",
       "      <td>Cupid (1997)</td>\n",
       "      <td>thriller</td>\n",
       "      <td>A brother and sister with a past incestuous r...</td>\n",
       "      <td>a brother and sister with a past incestuous re...</td>\n",
       "      <td>[a, brother, and, sister, with, a, past, inces...</td>\n",
       "      <td>[brother, sister, with, past, incestuous, rela...</td>\n",
       "      <td>[brother, sister, past, incestuous, relationsh...</td>\n",
       "      <td>[brother, sister, past, incestuous, relationsh...</td>\n",
       "      <td>[(brother, NN), (sister, NN), (past, IN), (inc...</td>\n",
       "      <td>brother sister past incestuous relationship cu...</td>\n",
       "    </tr>\n",
       "  </tbody>\n",
       "</table>\n",
       "</div>"
      ],
      "text/plain": [
       "                            title     genre  \\\n",
       "0   Oscar et la dame rose (2009)      drama   \n",
       "1                   Cupid (1997)   thriller   \n",
       "\n",
       "                                                plot  \\\n",
       "0   Listening in to a conversation between his do...   \n",
       "1   A brother and sister with a past incestuous r...   \n",
       "\n",
       "                                            no_punct  \\\n",
       "0  listening in to a conversation between his doc...   \n",
       "1  a brother and sister with a past incestuous re...   \n",
       "\n",
       "                                           tokenized  \\\n",
       "0  [listening, in, to, a, conversation, between, ...   \n",
       "1  [a, brother, and, sister, with, a, past, inces...   \n",
       "\n",
       "                                      no_small_words  \\\n",
       "0  [listening, conversation, between, doctor, par...   \n",
       "1  [brother, sister, with, past, incestuous, rela...   \n",
       "\n",
       "                                        no_stopwords  \\\n",
       "0  [listening, conversation, doctor, parents, 10-...   \n",
       "1  [brother, sister, past, incestuous, relationsh...   \n",
       "\n",
       "                                          lemmatized  \\\n",
       "0  [listening, conversation, doctor, parent, 10-y...   \n",
       "1  [brother, sister, past, incestuous, relationsh...   \n",
       "\n",
       "                                          pos_tagged  \\\n",
       "0  [(listening, VBG), (conversation, NN), (doctor...   \n",
       "1  [(brother, NN), (sister, NN), (past, IN), (inc...   \n",
       "\n",
       "                                      processed_text  \n",
       "0  listening conversation doctor parent 10-year-o...  \n",
       "1  brother sister past incestuous relationship cu...  "
      ]
     },
     "execution_count": 4,
     "metadata": {},
     "output_type": "execute_result"
    }
   ],
   "source": [
    "from preprocess import *\n",
    "\n",
    "clean_train_df = process_text(train_df)\n",
    "clean_train_df.head(2)"
   ]
  },
  {
   "cell_type": "code",
   "execution_count": 5,
   "metadata": {},
   "outputs": [],
   "source": [
    "# save the processed data\n",
    "clean_train_df.to_csv('../data/Movies/clean_train_data.csv', index=False)\n",
    "# # read processed data\n",
    "# clean_train_df = pd.read_csv('../data/Movies/clean_train_data.csv')\n",
    "# clean_train_df[['title', 'genre', 'plot','processed_text']].head()"
   ]
  },
  {
   "cell_type": "code",
   "execution_count": 6,
   "metadata": {},
   "outputs": [
    {
     "data": {
      "text/html": [
       "<div>\n",
       "<style scoped>\n",
       "    .dataframe tbody tr th:only-of-type {\n",
       "        vertical-align: middle;\n",
       "    }\n",
       "\n",
       "    .dataframe tbody tr th {\n",
       "        vertical-align: top;\n",
       "    }\n",
       "\n",
       "    .dataframe thead th {\n",
       "        text-align: right;\n",
       "    }\n",
       "</style>\n",
       "<table border=\"1\" class=\"dataframe\">\n",
       "  <thead>\n",
       "    <tr style=\"text-align: right;\">\n",
       "      <th></th>\n",
       "      <th>title</th>\n",
       "      <th>genre</th>\n",
       "      <th>plot</th>\n",
       "      <th>no_punct</th>\n",
       "      <th>tokenized</th>\n",
       "      <th>no_small_words</th>\n",
       "      <th>no_stopwords</th>\n",
       "      <th>lemmatized</th>\n",
       "      <th>pos_tagged</th>\n",
       "      <th>processed_text</th>\n",
       "    </tr>\n",
       "  </thead>\n",
       "  <tbody>\n",
       "    <tr>\n",
       "      <th>0</th>\n",
       "      <td>Edgar's Lunch (1998)</td>\n",
       "      <td>thriller</td>\n",
       "      <td>L.R. Brane loves his life - his car, his apar...</td>\n",
       "      <td>l.r. brane loves his life - his car, his apart...</td>\n",
       "      <td>[l.r, ., brane, loves, his, life, -, his, car,...</td>\n",
       "      <td>[brane, loves, life, apartment, especially, gi...</td>\n",
       "      <td>[brane, loves, life, apartment, especially, gi...</td>\n",
       "      <td>[brane, love, life, apartment, especially, gir...</td>\n",
       "      <td>[(brane, NN), (loves, VBZ), (life, NN), (apart...</td>\n",
       "      <td>brane love life apartment especially girlfrien...</td>\n",
       "    </tr>\n",
       "    <tr>\n",
       "      <th>1</th>\n",
       "      <td>La guerra de papá (1977)</td>\n",
       "      <td>comedy</td>\n",
       "      <td>Spain, March 1964: Quico is a very naughty ch...</td>\n",
       "      <td>spain, march 1964: quico is a very naughty chi...</td>\n",
       "      <td>[spain, ,, march, 1964, :, quico, is, a, very,...</td>\n",
       "      <td>[spain, march, 1964, quico, very, naughty, chi...</td>\n",
       "      <td>[spain, march, 1964, quico, naughty, child, th...</td>\n",
       "      <td>[spain, march, 1964, quico, naughty, child, th...</td>\n",
       "      <td>[(spain, NN), (march, NN), (1964, CD), (quico,...</td>\n",
       "      <td>spain march 1964 quico naughty child three bel...</td>\n",
       "    </tr>\n",
       "  </tbody>\n",
       "</table>\n",
       "</div>"
      ],
      "text/plain": [
       "                        title     genre  \\\n",
       "0       Edgar's Lunch (1998)   thriller   \n",
       "1   La guerra de papá (1977)     comedy   \n",
       "\n",
       "                                                plot  \\\n",
       "0   L.R. Brane loves his life - his car, his apar...   \n",
       "1   Spain, March 1964: Quico is a very naughty ch...   \n",
       "\n",
       "                                            no_punct  \\\n",
       "0  l.r. brane loves his life - his car, his apart...   \n",
       "1  spain, march 1964: quico is a very naughty chi...   \n",
       "\n",
       "                                           tokenized  \\\n",
       "0  [l.r, ., brane, loves, his, life, -, his, car,...   \n",
       "1  [spain, ,, march, 1964, :, quico, is, a, very,...   \n",
       "\n",
       "                                      no_small_words  \\\n",
       "0  [brane, loves, life, apartment, especially, gi...   \n",
       "1  [spain, march, 1964, quico, very, naughty, chi...   \n",
       "\n",
       "                                        no_stopwords  \\\n",
       "0  [brane, loves, life, apartment, especially, gi...   \n",
       "1  [spain, march, 1964, quico, naughty, child, th...   \n",
       "\n",
       "                                          lemmatized  \\\n",
       "0  [brane, love, life, apartment, especially, gir...   \n",
       "1  [spain, march, 1964, quico, naughty, child, th...   \n",
       "\n",
       "                                          pos_tagged  \\\n",
       "0  [(brane, NN), (loves, VBZ), (life, NN), (apart...   \n",
       "1  [(spain, NN), (march, NN), (1964, CD), (quico,...   \n",
       "\n",
       "                                      processed_text  \n",
       "0  brane love life apartment especially girlfrien...  \n",
       "1  spain march 1964 quico naughty child three bel...  "
      ]
     },
     "execution_count": 6,
     "metadata": {},
     "output_type": "execute_result"
    }
   ],
   "source": [
    "clean_test_df = process_text(test_df)\n",
    "# save the processed data\n",
    "clean_test_df.to_csv('../data/Movies/clean_test_data.csv', index=False)\n",
    "# # read processed data test\n",
    "# clean_test_df = pd.read_csv('../data/Movies/clean_test_data.csv')\n",
    "clean_test_df.head(2)"
   ]
  },
  {
   "cell_type": "code",
   "execution_count": 7,
   "metadata": {},
   "outputs": [],
   "source": [
    "# Calculate the most common words in each genre in train\n",
    "from collections import Counter\n",
    "\n",
    "genre_words = {}\n",
    "for genre in clean_train_df['genre'].unique():\n",
    "    genre_words[genre] = Counter(\" \".join(clean_train_df[clean_train_df['genre']==genre]['processed_text']).split()).most_common(10)\n",
    "\n",
    "# De genre words quedarnos solo con  thriller, horror, drama, comedy, romance, action, sci-fi, adventure\n",
    "genre_words = {genre: words for genre, words in genre_words.items() if genre in ['thriller', 'horror', 'drama', 'comedy', 'romance', 'action', 'sci-fi', 'adventure']}"
   ]
  },
  {
   "cell_type": "code",
   "execution_count": 8,
   "metadata": {},
   "outputs": [
    {
     "data": {
      "text/plain": [
       "{'drama': [('life', 8930),\n",
       "  ('love', 4474),\n",
       "  ('family', 4293),\n",
       "  ('young', 4177),\n",
       "  ('find', 3810),\n",
       "  ('story', 3696),\n",
       "  ('father', 3485),\n",
       "  ('year', 3252),\n",
       "  ('woman', 3234),\n",
       "  ('friend', 3112)],\n",
       " 'thriller': [('life', 681),\n",
       "  ('find', 558),\n",
       "  ('young', 327),\n",
       "  ('murder', 311),\n",
       "  ('friend', 305),\n",
       "  ('take', 294),\n",
       "  ('woman', 291),\n",
       "  ('year', 274),\n",
       "  ('wife', 271),\n",
       "  ('family', 265)],\n",
       " 'comedy': [('life', 2728),\n",
       "  ('friend', 1943),\n",
       "  ('find', 1820),\n",
       "  ('love', 1715),\n",
       "  ('make', 1351),\n",
       "  ('take', 1278),\n",
       "  ('comedy', 1278),\n",
       "  ('time', 1250),\n",
       "  ('show', 1238),\n",
       "  ('family', 1236)],\n",
       " 'horror': [('find', 734),\n",
       "  ('friend', 669),\n",
       "  ('life', 647),\n",
       "  ('house', 624),\n",
       "  ('young', 537),\n",
       "  ('night', 518),\n",
       "  ('year', 500),\n",
       "  ('family', 494),\n",
       "  ('woman', 476),\n",
       "  ('horror', 430)],\n",
       " 'action': [('life', 447),\n",
       "  ('find', 406),\n",
       "  ('take', 275),\n",
       "  ('world', 271),\n",
       "  ('police', 270),\n",
       "  ('fight', 239),\n",
       "  ('friend', 221),\n",
       "  ('year', 219),\n",
       "  ('must', 204),\n",
       "  ('time', 202)],\n",
       " 'sci-fi': [('earth', 255),\n",
       "  ('world', 249),\n",
       "  ('find', 188),\n",
       "  ('human', 181),\n",
       "  ('life', 178),\n",
       "  ('time', 176),\n",
       "  ('alien', 171),\n",
       "  ('year', 146),\n",
       "  ('planet', 119),\n",
       "  ('space', 115)],\n",
       " 'adventure': [('find', 234),\n",
       "  ('world', 196),\n",
       "  ('story', 187),\n",
       "  ('life', 186),\n",
       "  ('take', 173),\n",
       "  ('adventure', 147),\n",
       "  ('friend', 137),\n",
       "  ('woman', 129),\n",
       "  ('young', 124),\n",
       "  ('time', 124)],\n",
       " 'romance': [('love', 717),\n",
       "  ('life', 417),\n",
       "  ('find', 250),\n",
       "  ('meet', 225),\n",
       "  ('friend', 212),\n",
       "  ('fall', 192),\n",
       "  ('time', 191),\n",
       "  ('story', 189),\n",
       "  ('girl', 184),\n",
       "  ('family', 180)]}"
      ]
     },
     "execution_count": 8,
     "metadata": {},
     "output_type": "execute_result"
    }
   ],
   "source": [
    "genre_words"
   ]
  },
  {
   "cell_type": "code",
   "execution_count": 9,
   "metadata": {},
   "outputs": [
    {
     "name": "stdout",
     "output_type": "stream",
     "text": [
      "words repeted in 4 or more genres so frequently are: ['life', 'family', 'young', 'find', 'year', 'woman', 'friend', 'take', 'time']\n"
     ]
    }
   ],
   "source": [
    "# Recorrer genre_words y contar para cada palabra en cuántos géneros aparece\n",
    "\n",
    "#dictionary to register in how many genres a word appear\n",
    "word_dic={}\n",
    "\n",
    "for genre, words in genre_words.items():\n",
    "    for word, _ in words:\n",
    "        count = 0\n",
    "        for genre2, words2 in genre_words.items():\n",
    "            for word2, _ in words2:\n",
    "                if word == word2:\n",
    "                    count += 1\n",
    "        # si word no está en word_dic, añadir junto con el número de generos en el que aparece\n",
    "        if word not in word_dic:\n",
    "            word_dic[word] = count\n",
    "\n",
    "# lista con las palabras comunes a 4 o más generos\n",
    "common_words = [word for word, count in word_dic.items() if count >= 4]\n",
    "print(\"words repeted in 4 or more genres so frequently are: {}\".format(common_words))\n"
   ]
  },
  {
   "cell_type": "code",
   "execution_count": 10,
   "metadata": {},
   "outputs": [],
   "source": [
    "# Remove common words from the processed text\n",
    "clean_train_df['processed_text'] = clean_train_df['processed_text'].apply(lambda x: ' '.join([word for word in x.split() if word not in common_words]))\n",
    "\n"
   ]
  },
  {
   "cell_type": "markdown",
   "metadata": {},
   "source": [
    "# User Profile Creation using TRAIN"
   ]
  },
  {
   "cell_type": "markdown",
   "metadata": {},
   "source": [
    "## 1. Categories and User Profiles definition\n",
    "\n",
    "There are 7 genres we are interested in:\n",
    "\n",
    "* Thriller\n",
    "* Horror\n",
    "* Drama\n",
    "* Romance\n",
    "* Comedy\n",
    "* Action\n",
    "* Sci-Fi\n",
    "* Adventure\n",
    "\n",
    "We are gonna create 5 user-profiles based on the genres depending what are they interested in:\n",
    "\n",
    "* __User 1:__ Thriller and Horror \n",
    "* __User 2:__ Drama and Romance\n",
    "* __User 3:__ Comedy and Romance\n",
    "* __User 4:__ Action and Sci-Fi\n",
    "* __User 5:__ Adventure"
   ]
  },
  {
   "cell_type": "markdown",
   "metadata": {},
   "source": [
    "## 2. TF-IDF vectors for \"Processed Text\"\n",
    "\n",
    "Matriz donde cada fila representa una película y cada columna representa una palabra única en tu corpus, con valores TF-IDF que indican la importancia de cada palabra en cada documento."
   ]
  },
  {
   "cell_type": "code",
   "execution_count": 11,
   "metadata": {},
   "outputs": [
    {
     "data": {
      "text/plain": [
       "(54214, 110781)"
      ]
     },
     "execution_count": 11,
     "metadata": {},
     "output_type": "execute_result"
    }
   ],
   "source": [
    "from sklearn.feature_extraction.text import TfidfVectorizer\n",
    "\n",
    "vectorizer1 = TfidfVectorizer()\n",
    "vectorizer1.fit(clean_train_df['processed_text']) # fit has to happen only on train data\n",
    "tfidf_matrix = vectorizer1.transform(clean_train_df['processed_text'])\n",
    "tfidf_matrix.shape"
   ]
  },
  {
   "cell_type": "markdown",
   "metadata": {},
   "source": [
    "## 3. Create Genre-Vectors\n",
    "\n",
    "Para cada género, calcular un vector promedio de todas las películas que pertenecen a ese género. Esto implica sumar los vectores TF-IDF de todas las películas de un género y luego dividir por el número de películas en ese género para obtener el promedio."
   ]
  },
  {
   "cell_type": "code",
   "execution_count": 12,
   "metadata": {},
   "outputs": [],
   "source": [
    "import numpy as np\n",
    "\n",
    "def mean_genre_vector(genre, df, tfidf_mat):\n",
    "    genre_indices = df[df['genre'] == genre].index\n",
    "    genre_tfidf = tfidf_mat[genre_indices]\n",
    "    return np.mean(genre_tfidf, axis=0)"
   ]
  },
  {
   "cell_type": "code",
   "execution_count": 13,
   "metadata": {},
   "outputs": [],
   "source": [
    "# Create vectors for each genre\n",
    "thriller_vec = mean_genre_vector('thriller', clean_train_df, tfidf_matrix)\n",
    "horror_vec = mean_genre_vector('horror', clean_train_df, tfidf_matrix)\n",
    "drama_vec = mean_genre_vector('drama', clean_train_df, tfidf_matrix)\n",
    "romance_vec = mean_genre_vector('romance', clean_train_df, tfidf_matrix)\n",
    "comedy_vec = mean_genre_vector('comedy', clean_train_df, tfidf_matrix)\n",
    "action_vec = mean_genre_vector('action', clean_train_df, tfidf_matrix)\n",
    "sci_fi_vec = mean_genre_vector('sci-fi', clean_train_df, tfidf_matrix)\n",
    "adventure_vec = mean_genre_vector('adventure', clean_train_df, tfidf_matrix)"
   ]
  },
  {
   "cell_type": "markdown",
   "metadata": {},
   "source": [
    "## 4. Combine Genre-Vectors to create user profiles\n",
    "\n",
    "Por ejemplo, si un usuario prefiere tanto \"Thriller\" como \"Terror\", promediar los vectores de estos dos géneros para obtener el vector de preferencia del usuario."
   ]
  },
  {
   "cell_type": "code",
   "execution_count": 14,
   "metadata": {},
   "outputs": [],
   "source": [
    "user1 = (thriller_vec + horror_vec) / 2\n",
    "user2 = (drama_vec + romance_vec) / 2\n",
    "user3 = (comedy_vec + romance_vec) / 2\n",
    "user4 = (action_vec + sci_fi_vec) / 2\n",
    "user5 = adventure_vec"
   ]
  },
  {
   "cell_type": "markdown",
   "metadata": {},
   "source": [
    "# Profile-Based retrieval implementation\n",
    "\n",
    "Usaremos el conjunto TEST como fuente de Queries:\n",
    "1. Nos llega el título y la descripción de la película\n",
    "2. Procesamos el plot (esta parte la hemos hecho antes)\n",
    "3. Creamos los vectores TF-IDF de queries"
   ]
  },
  {
   "cell_type": "markdown",
   "metadata": {},
   "source": [
    "## 1. TF-IDF vectors for \"Processed Text in TEST\""
   ]
  },
  {
   "cell_type": "code",
   "execution_count": 15,
   "metadata": {},
   "outputs": [
    {
     "data": {
      "text/plain": [
       "(54200, 110781)"
      ]
     },
     "execution_count": 15,
     "metadata": {},
     "output_type": "execute_result"
    }
   ],
   "source": [
    "tfidf_matrix_test = vectorizer1.transform(clean_test_df['processed_text']) # no fit (we did it with train) only transform\n",
    "tfidf_matrix_test.shape"
   ]
  },
  {
   "cell_type": "markdown",
   "metadata": {},
   "source": [
    "## 2. Cosine similarity between tfidf_test vectors and users_vectors"
   ]
  },
  {
   "cell_type": "code",
   "execution_count": 16,
   "metadata": {},
   "outputs": [
    {
     "data": {
      "text/html": [
       "<div>\n",
       "<style scoped>\n",
       "    .dataframe tbody tr th:only-of-type {\n",
       "        vertical-align: middle;\n",
       "    }\n",
       "\n",
       "    .dataframe tbody tr th {\n",
       "        vertical-align: top;\n",
       "    }\n",
       "\n",
       "    .dataframe thead th {\n",
       "        text-align: right;\n",
       "    }\n",
       "</style>\n",
       "<table border=\"1\" class=\"dataframe\">\n",
       "  <thead>\n",
       "    <tr style=\"text-align: right;\">\n",
       "      <th></th>\n",
       "      <th>title</th>\n",
       "      <th>user1</th>\n",
       "      <th>user2</th>\n",
       "      <th>user3</th>\n",
       "      <th>user4</th>\n",
       "      <th>user5</th>\n",
       "    </tr>\n",
       "  </thead>\n",
       "  <tbody>\n",
       "  </tbody>\n",
       "</table>\n",
       "</div>"
      ],
      "text/plain": [
       "Empty DataFrame\n",
       "Columns: [title, user1, user2, user3, user4, user5]\n",
       "Index: []"
      ]
     },
     "execution_count": 16,
     "metadata": {},
     "output_type": "execute_result"
    }
   ],
   "source": [
    "similarity_df = pd.DataFrame(columns=['title','user1', 'user2', 'user3', 'user4', 'user5'])\n",
    "similarity_df"
   ]
  },
  {
   "cell_type": "code",
   "execution_count": 17,
   "metadata": {},
   "outputs": [],
   "source": [
    "from sklearn.metrics.pairwise import cosine_similarity\n",
    "\n",
    "# For each movie in the test set calculate the cosine similarity between the movie and each user (using tfidf_matrix_test rows and user vectors)\n",
    "for i in range(len(clean_test_df)):\n",
    "    movie = tfidf_matrix_test[i].reshape(1, -1)\n",
    "    similarity_df.at[i, 'title'] = clean_test_df.at[i, 'title']\n",
    "    similarity_df.at[i, 'user1'] = cosine_similarity(movie, np.asarray(user1))[0][0]\n",
    "    similarity_df.at[i, 'user2'] = cosine_similarity(movie, np.asarray(user2))[0][0]\n",
    "    similarity_df.at[i, 'user3'] = cosine_similarity(movie, np.asarray(user3))[0][0]\n",
    "    similarity_df.at[i, 'user4'] = cosine_similarity(movie, np.asarray(user4))[0][0]\n",
    "    similarity_df.at[i, 'user5'] = cosine_similarity(movie, np.asarray(user5))[0][0]\n",
    "    \n",
    "# # read the similarity dataframes\n",
    "# similarity_df = pd.read_csv('../data/Movies/similarity_df.csv')\n"
   ]
  },
  {
   "cell_type": "code",
   "execution_count": 18,
   "metadata": {},
   "outputs": [],
   "source": [
    "# save the similarity dataframes\n",
    "similarity_df.to_csv('../data/Movies/similarity_df.csv', index=False)"
   ]
  },
  {
   "cell_type": "code",
   "execution_count": 19,
   "metadata": {},
   "outputs": [
    {
     "data": {
      "text/html": [
       "<div>\n",
       "<style scoped>\n",
       "    .dataframe tbody tr th:only-of-type {\n",
       "        vertical-align: middle;\n",
       "    }\n",
       "\n",
       "    .dataframe tbody tr th {\n",
       "        vertical-align: top;\n",
       "    }\n",
       "\n",
       "    .dataframe thead th {\n",
       "        text-align: right;\n",
       "    }\n",
       "</style>\n",
       "<table border=\"1\" class=\"dataframe\">\n",
       "  <thead>\n",
       "    <tr style=\"text-align: right;\">\n",
       "      <th></th>\n",
       "      <th>title</th>\n",
       "      <th>user1</th>\n",
       "      <th>user2</th>\n",
       "      <th>user3</th>\n",
       "      <th>user4</th>\n",
       "      <th>user5</th>\n",
       "    </tr>\n",
       "  </thead>\n",
       "  <tbody>\n",
       "    <tr>\n",
       "      <th>0</th>\n",
       "      <td>Edgar's Lunch (1998)</td>\n",
       "      <td>0.063125</td>\n",
       "      <td>0.07356</td>\n",
       "      <td>0.073201</td>\n",
       "      <td>0.05638</td>\n",
       "      <td>0.043763</td>\n",
       "    </tr>\n",
       "    <tr>\n",
       "      <th>1</th>\n",
       "      <td>La guerra de papá (1977)</td>\n",
       "      <td>0.095569</td>\n",
       "      <td>0.121348</td>\n",
       "      <td>0.104803</td>\n",
       "      <td>0.065446</td>\n",
       "      <td>0.07018</td>\n",
       "    </tr>\n",
       "    <tr>\n",
       "      <th>2</th>\n",
       "      <td>Off the Beaten Track (2010)</td>\n",
       "      <td>0.043098</td>\n",
       "      <td>0.058767</td>\n",
       "      <td>0.055151</td>\n",
       "      <td>0.048207</td>\n",
       "      <td>0.05422</td>\n",
       "    </tr>\n",
       "    <tr>\n",
       "      <th>3</th>\n",
       "      <td>Meu Amigo Hindu (2015)</td>\n",
       "      <td>0.083197</td>\n",
       "      <td>0.120635</td>\n",
       "      <td>0.115787</td>\n",
       "      <td>0.069519</td>\n",
       "      <td>0.077742</td>\n",
       "    </tr>\n",
       "    <tr>\n",
       "      <th>4</th>\n",
       "      <td>Er nu zhai (1955)</td>\n",
       "      <td>0.091813</td>\n",
       "      <td>0.108243</td>\n",
       "      <td>0.102644</td>\n",
       "      <td>0.086136</td>\n",
       "      <td>0.067385</td>\n",
       "    </tr>\n",
       "  </tbody>\n",
       "</table>\n",
       "</div>"
      ],
      "text/plain": [
       "                           title     user1     user2     user3     user4  \\\n",
       "0          Edgar's Lunch (1998)   0.063125   0.07356  0.073201   0.05638   \n",
       "1      La guerra de papá (1977)   0.095569  0.121348  0.104803  0.065446   \n",
       "2   Off the Beaten Track (2010)   0.043098  0.058767  0.055151  0.048207   \n",
       "3        Meu Amigo Hindu (2015)   0.083197  0.120635  0.115787  0.069519   \n",
       "4             Er nu zhai (1955)   0.091813  0.108243  0.102644  0.086136   \n",
       "\n",
       "      user5  \n",
       "0  0.043763  \n",
       "1   0.07018  \n",
       "2   0.05422  \n",
       "3  0.077742  \n",
       "4  0.067385  "
      ]
     },
     "execution_count": 19,
     "metadata": {},
     "output_type": "execute_result"
    }
   ],
   "source": [
    "similarity_df.head()"
   ]
  },
  {
   "cell_type": "markdown",
   "metadata": {},
   "source": [
    "## 3. Deliver the movies to the users ranked by their preferences"
   ]
  },
  {
   "cell_type": "code",
   "execution_count": 20,
   "metadata": {},
   "outputs": [],
   "source": [
    "# For each user create a df with the movies sorted by similarity \n",
    "user1_df = similarity_df[['title', 'user1']].sort_values(by='user1', ascending=False)\n",
    "user2_df = similarity_df[['title', 'user2']].sort_values(by='user2', ascending=False)\n",
    "user3_df = similarity_df[['title', 'user3']].sort_values(by='user3', ascending=False)\n",
    "user4_df = similarity_df[['title', 'user4']].sort_values(by='user4', ascending=False)\n",
    "user5_df = similarity_df[['title', 'user5']].sort_values(by='user5', ascending=False)\n",
    "\n",
    "# include in the dfs the plot of the movie and the genre\n",
    "user1_df = user1_df.merge(clean_test_df[['title', 'plot', 'genre']], on='title')\n",
    "user2_df = user2_df.merge(clean_test_df[['title', 'plot', 'genre']], on='title')\n",
    "user3_df = user3_df.merge(clean_test_df[['title', 'plot', 'genre']], on='title')\n",
    "user4_df = user4_df.merge(clean_test_df[['title', 'plot', 'genre']], on='title')\n",
    "user5_df = user5_df.merge(clean_test_df[['title', 'plot', 'genre']], on='title')\n",
    "\n",
    "# quitar espacios en blanco en la columna genre\n",
    "user1_df['genre'] = user1_df['genre'].str.strip()\n",
    "user2_df['genre'] = user2_df['genre'].str.strip()\n",
    "user3_df['genre'] = user3_df['genre'].str.strip()\n",
    "user4_df['genre'] = user4_df['genre'].str.strip()\n",
    "user5_df['genre'] = user5_df['genre'].str.strip()\n"
   ]
  },
  {
   "cell_type": "markdown",
   "metadata": {},
   "source": [
    "## Results"
   ]
  },
  {
   "cell_type": "code",
   "execution_count": 21,
   "metadata": {},
   "outputs": [],
   "source": [
    "genre_colors = {\n",
    "    'horror': '#DC143C',  # Crimson para Horror\n",
    "    'drama': '#6A5ACD',  # SlateBlue para Drama\n",
    "    'thriller': '#708090',  # SlateGray para Thriller\n",
    "    'romance': '#FF69B4',  # HotPink para Romance\n",
    "    'comedy': '#FFD700',  # Gold para Comedy\n",
    "    'sci-fi': '#7FFFD4',  # Aquamarine para Sci-Fi\n",
    "    'action': '#FF4500',  # OrangeRed para Action\n",
    "    'adventure': '#20B2AA',  # LightSeaGreen para Adventure\n",
    "    # Todos los otros géneros en diferentes tonos de gris\n",
    "    'documentary': '#808080',  # Gray\n",
    "    'mystery': '#696969',  # DimGray\n",
    "    'reality-tv': '#A9A9A9',  # DarkGray\n",
    "    'short': '#C0C0C0',  # Silver\n",
    "    'family': '#D3D3D3',  # LightGrey\n",
    "    'western': '#778899',  # LightSlateGray\n",
    "    'crime': '#2F4F4F',  # DarkSlateGray\n",
    "    'animation': '#BEBEBE',  # Gray (Web)\n",
    "    'adult': '#E0E0E0',  # VeryLightGrey\n",
    "    'history': '#989898',  # Grey\n",
    "    'talk-show': '#808080',  # Gray again, or adjust as needed\n",
    "    'fantasy': '#A9A9A9',  # DarkGray, adjust as needed\n",
    "    'war': '#696969',  # DimGray, adjust as needed\n",
    "    'news': '#C0C0C0',  # Silver, adjust as needed\n",
    "    'biography': '#D3D3D3',  # LightGrey, adjust as needed\n",
    "    'music': '#BEBEBE',  # Gray (Web), adjust as needed\n",
    "    'musical': '#E0E0E0',  # VeryLightGrey, adjust as needed\n",
    "    'game-show': '#989898',  # Grey, adjust as needed\n",
    "    'sport': '#808080',  # Gray, adjust as needed\n",
    "}"
   ]
  },
  {
   "cell_type": "code",
   "execution_count": 22,
   "metadata": {},
   "outputs": [
    {
     "data": {
      "image/png": "[encoded data removed]",
      "text/plain": [
       "<Figure size 500x500 with 1 Axes>"
      ]
     },
     "metadata": {},
     "output_type": "display_data"
    },
    {
     "data": {
      "text/html": [
       "<div>\n",
       "<style scoped>\n",
       "    .dataframe tbody tr th:only-of-type {\n",
       "        vertical-align: middle;\n",
       "    }\n",
       "\n",
       "    .dataframe tbody tr th {\n",
       "        vertical-align: top;\n",
       "    }\n",
       "\n",
       "    .dataframe thead th {\n",
       "        text-align: right;\n",
       "    }\n",
       "</style>\n",
       "<table border=\"1\" class=\"dataframe\">\n",
       "  <thead>\n",
       "    <tr style=\"text-align: right;\">\n",
       "      <th></th>\n",
       "      <th>title</th>\n",
       "      <th>user1</th>\n",
       "      <th>plot</th>\n",
       "      <th>genre</th>\n",
       "    </tr>\n",
       "  </thead>\n",
       "  <tbody>\n",
       "    <tr>\n",
       "      <th>0</th>\n",
       "      <td>Scary Tales (2014)</td>\n",
       "      <td>0.258616</td>\n",
       "      <td>SCARY TALES is a unique horror anthology feat...</td>\n",
       "      <td>horror</td>\n",
       "    </tr>\n",
       "    <tr>\n",
       "      <th>1</th>\n",
       "      <td>Midnight Abyss (2011)</td>\n",
       "      <td>0.249396</td>\n",
       "      <td>Midnight Abyss is a psychological horror film...</td>\n",
       "      <td>horror</td>\n",
       "    </tr>\n",
       "    <tr>\n",
       "      <th>2</th>\n",
       "      <td>Deranged Killers: Stories of Psychos, Sex and...</td>\n",
       "      <td>0.247807</td>\n",
       "      <td>The Sexual Serial Killer: A strange woman dev...</td>\n",
       "      <td>horror</td>\n",
       "    </tr>\n",
       "    <tr>\n",
       "      <th>3</th>\n",
       "      <td>Let Me in (2017)</td>\n",
       "      <td>0.247427</td>\n",
       "      <td>A family loses their husband and father due t...</td>\n",
       "      <td>drama</td>\n",
       "    </tr>\n",
       "    <tr>\n",
       "      <th>4</th>\n",
       "      <td>Stricken (2010)</td>\n",
       "      <td>0.24594</td>\n",
       "      <td>After her mother's death and her father's bru...</td>\n",
       "      <td>thriller</td>\n",
       "    </tr>\n",
       "  </tbody>\n",
       "</table>\n",
       "</div>"
      ],
      "text/plain": [
       "                                               title     user1  \\\n",
       "0                                Scary Tales (2014)   0.258616   \n",
       "1                             Midnight Abyss (2011)   0.249396   \n",
       "2   Deranged Killers: Stories of Psychos, Sex and...  0.247807   \n",
       "3                                  Let Me in (2017)   0.247427   \n",
       "4                                   Stricken (2010)    0.24594   \n",
       "\n",
       "                                                plot     genre  \n",
       "0   SCARY TALES is a unique horror anthology feat...    horror  \n",
       "1   Midnight Abyss is a psychological horror film...    horror  \n",
       "2   The Sexual Serial Killer: A strange woman dev...    horror  \n",
       "3   A family loses their husband and father due t...     drama  \n",
       "4   After her mother's death and her father's bru...  thriller  "
      ]
     },
     "execution_count": 22,
     "metadata": {},
     "output_type": "execute_result"
    }
   ],
   "source": [
    "# user 1: thriller and horror\n",
    "# De las 100 primeras recomendaciones, cuántas son de género thriller o horror? - plot circular\n",
    "# plot bar with number of samples per genre for the first 100 recommendations using the colors defined above for each genre \n",
    "from collections import Counter\n",
    "import matplotlib.pyplot as plt\n",
    "from matplotlib.patches import Patch\n",
    "\n",
    "# user 1\n",
    "user1_genres = []\n",
    "for i in range(100):\n",
    "    user1_genres.append(user1_df['genre'].iloc[i])\n",
    "user1_genres_count = Counter(user1_genres)\n",
    "\n",
    "plt.figure(figsize=(5,5))\n",
    "plt.pie(user1_genres_count.values(), labels=user1_genres_count.keys(), colors=[genre_colors[genre] for genre in user1_genres_count.keys()], autopct='%1.1f%%')\n",
    "plt.title('User 1: Thriller and Horror')\n",
    "plt.show()\n",
    "\n",
    "\n",
    "user1_df.head()"
   ]
  },
  {
   "cell_type": "code",
   "execution_count": 23,
   "metadata": {},
   "outputs": [
    {
     "data": {
      "image/png": "[encoded data removed]",
      "text/plain": [
       "<Figure size 500x500 with 1 Axes>"
      ]
     },
     "metadata": {},
     "output_type": "display_data"
    },
    {
     "data": {
      "text/html": [
       "<div>\n",
       "<style scoped>\n",
       "    .dataframe tbody tr th:only-of-type {\n",
       "        vertical-align: middle;\n",
       "    }\n",
       "\n",
       "    .dataframe tbody tr th {\n",
       "        vertical-align: top;\n",
       "    }\n",
       "\n",
       "    .dataframe thead th {\n",
       "        text-align: right;\n",
       "    }\n",
       "</style>\n",
       "<table border=\"1\" class=\"dataframe\">\n",
       "  <thead>\n",
       "    <tr style=\"text-align: right;\">\n",
       "      <th></th>\n",
       "      <th>title</th>\n",
       "      <th>user2</th>\n",
       "      <th>plot</th>\n",
       "      <th>genre</th>\n",
       "    </tr>\n",
       "  </thead>\n",
       "  <tbody>\n",
       "    <tr>\n",
       "      <th>0</th>\n",
       "      <td>\"Aur Pyaar Ho Gaya\" (2014)</td>\n",
       "      <td>0.346305</td>\n",
       "      <td>Love oh love is about the beautiful love stor...</td>\n",
       "      <td>drama</td>\n",
       "    </tr>\n",
       "    <tr>\n",
       "      <th>1</th>\n",
       "      <td>Ai Hen Lan (2011)</td>\n",
       "      <td>0.321255</td>\n",
       "      <td>Love Actually... Sucks! was inspired by real-...</td>\n",
       "      <td>drama</td>\n",
       "    </tr>\n",
       "    <tr>\n",
       "      <th>2</th>\n",
       "      <td>Flipped or Not (2015)</td>\n",
       "      <td>0.321166</td>\n",
       "      <td>Flipped or Not is a 2015 Chinese movie. The m...</td>\n",
       "      <td>romance</td>\n",
       "    </tr>\n",
       "    <tr>\n",
       "      <th>3</th>\n",
       "      <td>Happy Ending (2015/III)</td>\n",
       "      <td>0.290741</td>\n",
       "      <td>Story of a guy of 20 yrs old, who falls in lo...</td>\n",
       "      <td>romance</td>\n",
       "    </tr>\n",
       "    <tr>\n",
       "      <th>4</th>\n",
       "      <td>Agni Pareeksha (1954)</td>\n",
       "      <td>0.279785</td>\n",
       "      <td>This story revolves around a young couple - K...</td>\n",
       "      <td>romance</td>\n",
       "    </tr>\n",
       "  </tbody>\n",
       "</table>\n",
       "</div>"
      ],
      "text/plain": [
       "                          title     user2  \\\n",
       "0   \"Aur Pyaar Ho Gaya\" (2014)   0.346305   \n",
       "1            Ai Hen Lan (2011)   0.321255   \n",
       "2        Flipped or Not (2015)   0.321166   \n",
       "3      Happy Ending (2015/III)   0.290741   \n",
       "4        Agni Pareeksha (1954)   0.279785   \n",
       "\n",
       "                                                plot    genre  \n",
       "0   Love oh love is about the beautiful love stor...    drama  \n",
       "1   Love Actually... Sucks! was inspired by real-...    drama  \n",
       "2   Flipped or Not is a 2015 Chinese movie. The m...  romance  \n",
       "3   Story of a guy of 20 yrs old, who falls in lo...  romance  \n",
       "4   This story revolves around a young couple - K...  romance  "
      ]
     },
     "execution_count": 23,
     "metadata": {},
     "output_type": "execute_result"
    }
   ],
   "source": [
    "# user 2: drama and romance\n",
    "plt.figure(figsize=(5,5))\n",
    "user2_genres = []\n",
    "for i in range(100):\n",
    "    user2_genres.append(user2_df['genre'].iloc[i])\n",
    "user2_genres_count = Counter(user2_genres)\n",
    "\n",
    "plt.pie(user2_genres_count.values(), labels=user2_genres_count.keys(), colors=[genre_colors[genre] for genre in user2_genres_count.keys()], autopct='%1.1f%%')\n",
    "plt.title('User 2: Drama and Romance')\n",
    "plt.show()\n",
    "\n",
    "user2_df.head()"
   ]
  },
  {
   "cell_type": "code",
   "execution_count": 24,
   "metadata": {},
   "outputs": [
    {
     "data": {
      "image/png": "[encoded data removed]",
      "text/plain": [
       "<Figure size 600x600 with 1 Axes>"
      ]
     },
     "metadata": {},
     "output_type": "display_data"
    },
    {
     "data": {
      "text/html": [
       "<div>\n",
       "<style scoped>\n",
       "    .dataframe tbody tr th:only-of-type {\n",
       "        vertical-align: middle;\n",
       "    }\n",
       "\n",
       "    .dataframe tbody tr th {\n",
       "        vertical-align: top;\n",
       "    }\n",
       "\n",
       "    .dataframe thead th {\n",
       "        text-align: right;\n",
       "    }\n",
       "</style>\n",
       "<table border=\"1\" class=\"dataframe\">\n",
       "  <thead>\n",
       "    <tr style=\"text-align: right;\">\n",
       "      <th></th>\n",
       "      <th>title</th>\n",
       "      <th>user3</th>\n",
       "      <th>plot</th>\n",
       "      <th>genre</th>\n",
       "    </tr>\n",
       "  </thead>\n",
       "  <tbody>\n",
       "    <tr>\n",
       "      <th>0</th>\n",
       "      <td>\"Aur Pyaar Ho Gaya\" (2014)</td>\n",
       "      <td>0.335573</td>\n",
       "      <td>Love oh love is about the beautiful love stor...</td>\n",
       "      <td>drama</td>\n",
       "    </tr>\n",
       "    <tr>\n",
       "      <th>1</th>\n",
       "      <td>Flipped or Not (2015)</td>\n",
       "      <td>0.311832</td>\n",
       "      <td>Flipped or Not is a 2015 Chinese movie. The m...</td>\n",
       "      <td>romance</td>\n",
       "    </tr>\n",
       "    <tr>\n",
       "      <th>2</th>\n",
       "      <td>Ai Hen Lan (2011)</td>\n",
       "      <td>0.311345</td>\n",
       "      <td>Love Actually... Sucks! was inspired by real-...</td>\n",
       "      <td>drama</td>\n",
       "    </tr>\n",
       "    <tr>\n",
       "      <th>3</th>\n",
       "      <td>Happy Ending (2015/III)</td>\n",
       "      <td>0.281668</td>\n",
       "      <td>Story of a guy of 20 yrs old, who falls in lo...</td>\n",
       "      <td>romance</td>\n",
       "    </tr>\n",
       "    <tr>\n",
       "      <th>4</th>\n",
       "      <td>\"Some Say Love\" (2011)</td>\n",
       "      <td>0.274264</td>\n",
       "      <td>Some Say Love is a 6 x 30 minute observationa...</td>\n",
       "      <td>comedy</td>\n",
       "    </tr>\n",
       "  </tbody>\n",
       "</table>\n",
       "</div>"
      ],
      "text/plain": [
       "                          title     user3  \\\n",
       "0   \"Aur Pyaar Ho Gaya\" (2014)   0.335573   \n",
       "1        Flipped or Not (2015)   0.311832   \n",
       "2            Ai Hen Lan (2011)   0.311345   \n",
       "3      Happy Ending (2015/III)   0.281668   \n",
       "4       \"Some Say Love\" (2011)   0.274264   \n",
       "\n",
       "                                                plot    genre  \n",
       "0   Love oh love is about the beautiful love stor...    drama  \n",
       "1   Flipped or Not is a 2015 Chinese movie. The m...  romance  \n",
       "2   Love Actually... Sucks! was inspired by real-...    drama  \n",
       "3   Story of a guy of 20 yrs old, who falls in lo...  romance  \n",
       "4   Some Say Love is a 6 x 30 minute observationa...   comedy  "
      ]
     },
     "execution_count": 24,
     "metadata": {},
     "output_type": "execute_result"
    }
   ],
   "source": [
    "#user 3: comedy and romance\n",
    "plt.figure(figsize=(6, 6))\n",
    "user3_genres = []\n",
    "for i in range(100):\n",
    "    user3_genres.append(user3_df['genre'].iloc[i])\n",
    "user3_genres_count = Counter(user3_genres)\n",
    "\n",
    "plt.pie(user3_genres_count.values(), labels=user3_genres_count.keys(), colors=[genre_colors[genre] for genre in user3_genres_count.keys()], autopct='%1.1f%%')\n",
    "plt.title('User 3: Comedy and Romance')\n",
    "plt.show()\n",
    "\n",
    "user3_df.head()"
   ]
  },
  {
   "cell_type": "code",
   "execution_count": 25,
   "metadata": {},
   "outputs": [
    {
     "data": {
      "image/png": "[encoded data removed]",
      "text/plain": [
       "<Figure size 600x600 with 1 Axes>"
      ]
     },
     "metadata": {},
     "output_type": "display_data"
    },
    {
     "data": {
      "text/html": [
       "<div>\n",
       "<style scoped>\n",
       "    .dataframe tbody tr th:only-of-type {\n",
       "        vertical-align: middle;\n",
       "    }\n",
       "\n",
       "    .dataframe tbody tr th {\n",
       "        vertical-align: top;\n",
       "    }\n",
       "\n",
       "    .dataframe thead th {\n",
       "        text-align: right;\n",
       "    }\n",
       "</style>\n",
       "<table border=\"1\" class=\"dataframe\">\n",
       "  <thead>\n",
       "    <tr style=\"text-align: right;\">\n",
       "      <th></th>\n",
       "      <th>title</th>\n",
       "      <th>user4</th>\n",
       "      <th>plot</th>\n",
       "      <th>genre</th>\n",
       "    </tr>\n",
       "  </thead>\n",
       "  <tbody>\n",
       "    <tr>\n",
       "      <th>0</th>\n",
       "      <td>Sachi's Quest (2006)</td>\n",
       "      <td>0.264246</td>\n",
       "      <td>In a very dark far future, an elite female ag...</td>\n",
       "      <td>adventure</td>\n",
       "    </tr>\n",
       "    <tr>\n",
       "      <th>1</th>\n",
       "      <td>Watch the Skies (2018)</td>\n",
       "      <td>0.261496</td>\n",
       "      <td>When a small starship crashes to earth, it is...</td>\n",
       "      <td>animation</td>\n",
       "    </tr>\n",
       "    <tr>\n",
       "      <th>2</th>\n",
       "      <td>Ganitorian Chronicles: Gallaca (????)</td>\n",
       "      <td>0.2578</td>\n",
       "      <td>When Earth is attacked by an alien enemy know...</td>\n",
       "      <td>sci-fi</td>\n",
       "    </tr>\n",
       "    <tr>\n",
       "      <th>3</th>\n",
       "      <td>Kraa! The Sea Monster (1998)</td>\n",
       "      <td>0.252559</td>\n",
       "      <td>Lord Doom, evil master of Proyas, the Dark Pl...</td>\n",
       "      <td>sci-fi</td>\n",
       "    </tr>\n",
       "    <tr>\n",
       "      <th>4</th>\n",
       "      <td>Around the World in 60 Minutes (2011)</td>\n",
       "      <td>0.248308</td>\n",
       "      <td>A unique journey around the weird and wonderf...</td>\n",
       "      <td>documentary</td>\n",
       "    </tr>\n",
       "  </tbody>\n",
       "</table>\n",
       "</div>"
      ],
      "text/plain": [
       "                                     title     user4  \\\n",
       "0                    Sachi's Quest (2006)   0.264246   \n",
       "1                  Watch the Skies (2018)   0.261496   \n",
       "2   Ganitorian Chronicles: Gallaca (????)     0.2578   \n",
       "3            Kraa! The Sea Monster (1998)   0.252559   \n",
       "4   Around the World in 60 Minutes (2011)   0.248308   \n",
       "\n",
       "                                                plot        genre  \n",
       "0   In a very dark far future, an elite female ag...    adventure  \n",
       "1   When a small starship crashes to earth, it is...    animation  \n",
       "2   When Earth is attacked by an alien enemy know...       sci-fi  \n",
       "3   Lord Doom, evil master of Proyas, the Dark Pl...       sci-fi  \n",
       "4   A unique journey around the weird and wonderf...  documentary  "
      ]
     },
     "execution_count": 25,
     "metadata": {},
     "output_type": "execute_result"
    }
   ],
   "source": [
    "# user 4: action and sci-fi\n",
    "plt.figure(figsize=(6, 6))\n",
    "user4_genres = []\n",
    "for i in range(100):\n",
    "    user4_genres.append(user4_df['genre'].iloc[i])\n",
    "user4_genres_count = Counter(user4_genres)\n",
    "\n",
    "plt.pie(user4_genres_count.values(), labels=user4_genres_count.keys(), colors=[genre_colors[genre] for genre in user4_genres_count.keys()], autopct='%1.1f%%')\n",
    "plt.title('User 4: Action and Sci-Fi')\n",
    "\n",
    "plt.show()\n",
    "user4_df.head()"
   ]
  },
  {
   "cell_type": "code",
   "execution_count": 26,
   "metadata": {},
   "outputs": [
    {
     "data": {
      "text/html": [
       "<div>\n",
       "<style scoped>\n",
       "    .dataframe tbody tr th:only-of-type {\n",
       "        vertical-align: middle;\n",
       "    }\n",
       "\n",
       "    .dataframe tbody tr th {\n",
       "        vertical-align: top;\n",
       "    }\n",
       "\n",
       "    .dataframe thead th {\n",
       "        text-align: right;\n",
       "    }\n",
       "</style>\n",
       "<table border=\"1\" class=\"dataframe\">\n",
       "  <thead>\n",
       "    <tr style=\"text-align: right;\">\n",
       "      <th></th>\n",
       "      <th>title</th>\n",
       "      <th>user5</th>\n",
       "      <th>plot</th>\n",
       "      <th>genre</th>\n",
       "    </tr>\n",
       "  </thead>\n",
       "  <tbody>\n",
       "    <tr>\n",
       "      <th>0</th>\n",
       "      <td>Strange Visitors &amp; Other Tales (2001)</td>\n",
       "      <td>0.279951</td>\n",
       "      <td>Three bondage-filled vignettes from Harmony C...</td>\n",
       "      <td>adventure</td>\n",
       "    </tr>\n",
       "    <tr>\n",
       "      <th>1</th>\n",
       "      <td>Costume Girls Captured on Film (2010)</td>\n",
       "      <td>0.268415</td>\n",
       "      <td>Costume-clad cuties are captured, bound and g...</td>\n",
       "      <td>adventure</td>\n",
       "    </tr>\n",
       "    <tr>\n",
       "      <th>2</th>\n",
       "      <td>Hostile Holiday Hostages (2009)</td>\n",
       "      <td>0.262623</td>\n",
       "      <td>Nine beautiful are placed in bondage peril du...</td>\n",
       "      <td>adventure</td>\n",
       "    </tr>\n",
       "    <tr>\n",
       "      <th>3</th>\n",
       "      <td>Damsel Stories (2014)</td>\n",
       "      <td>0.257362</td>\n",
       "      <td>Bondage video with three separate tales. In t...</td>\n",
       "      <td>adult</td>\n",
       "    </tr>\n",
       "    <tr>\n",
       "      <th>4</th>\n",
       "      <td>Feisty Females Restrained (2010)</td>\n",
       "      <td>0.251034</td>\n",
       "      <td>Five beautiful babes are place in bondage. In...</td>\n",
       "      <td>adventure</td>\n",
       "    </tr>\n",
       "  </tbody>\n",
       "</table>\n",
       "</div>"
      ],
      "text/plain": [
       "                                     title     user5  \\\n",
       "0   Strange Visitors & Other Tales (2001)   0.279951   \n",
       "1   Costume Girls Captured on Film (2010)   0.268415   \n",
       "2         Hostile Holiday Hostages (2009)   0.262623   \n",
       "3                   Damsel Stories (2014)   0.257362   \n",
       "4        Feisty Females Restrained (2010)   0.251034   \n",
       "\n",
       "                                                plot      genre  \n",
       "0   Three bondage-filled vignettes from Harmony C...  adventure  \n",
       "1   Costume-clad cuties are captured, bound and g...  adventure  \n",
       "2   Nine beautiful are placed in bondage peril du...  adventure  \n",
       "3   Bondage video with three separate tales. In t...      adult  \n",
       "4   Five beautiful babes are place in bondage. In...  adventure  "
      ]
     },
     "execution_count": 26,
     "metadata": {},
     "output_type": "execute_result"
    },
    {
     "data": {
      "image/png": "[encoded data removed]",
      "text/plain": [
       "<Figure size 600x600 with 1 Axes>"
      ]
     },
     "metadata": {},
     "output_type": "display_data"
    }
   ],
   "source": [
    "# user 5: adventure\n",
    "plt.figure(figsize=(6, 6))\n",
    "user5_genres = []\n",
    "for i in range(100):\n",
    "    user5_genres.append(user5_df['genre'].iloc[i])\n",
    "user5_genres_count = Counter(user5_genres)\n",
    "\n",
    "plt.pie(user5_genres_count.values(), labels=user5_genres_count.keys(), colors=[genre_colors[genre] for genre in user5_genres_count.keys()], autopct='%1.1f%%')\n",
    "\n",
    "plt.title('User 5: Adventure')\n",
    "user5_df.head()"
   ]
  },
  {
   "cell_type": "markdown",
   "metadata": {},
   "source": [
    "## 4. Deliver each movie only to the user intereste in it"
   ]
  },
  {
   "cell_type": "code",
   "execution_count": 27,
   "metadata": {},
   "outputs": [],
   "source": [
    "# For each movie in the similarity_df, deliver it only to the user with a similarity value higher than 0.2\n",
    "# calculte the threshold for each user so it is two thirds of the maximum similarity value\n",
    "th1 = (user1_df['user1'].max() / 3)*2\n",
    "th2 = (user2_df['user2'].max() / 3)*2\n",
    "th3 = (user3_df['user3'].max() / 3)*2\n",
    "th4 = (user4_df['user4'].max() / 3)*2\n",
    "th5 = (user5_df['user5'].max() / 3)*2\n",
    "\n",
    "\n",
    "user1_df2 = user1_df[user1_df['user1'] > th1]\n",
    "user2_df2 = user2_df[user2_df['user2'] > th2]\n",
    "user3_df2 = user3_df[user3_df['user3'] > th3]\n",
    "user4_df2 = user4_df[user4_df['user4'] > th4]\n",
    "user5_df2 = user5_df[user5_df['user5'] > th5]"
   ]
  },
  {
   "cell_type": "markdown",
   "metadata": {},
   "source": [
    "## Results"
   ]
  },
  {
   "cell_type": "code",
   "execution_count": 29,
   "metadata": {},
   "outputs": [
    {
     "name": "stdout",
     "output_type": "stream",
     "text": [
      "Number of movies for user 1: 251\n"
     ]
    },
    {
     "data": {
      "text/html": [
       "<div>\n",
       "<style scoped>\n",
       "    .dataframe tbody tr th:only-of-type {\n",
       "        vertical-align: middle;\n",
       "    }\n",
       "\n",
       "    .dataframe tbody tr th {\n",
       "        vertical-align: top;\n",
       "    }\n",
       "\n",
       "    .dataframe thead th {\n",
       "        text-align: right;\n",
       "    }\n",
       "</style>\n",
       "<table border=\"1\" class=\"dataframe\">\n",
       "  <thead>\n",
       "    <tr style=\"text-align: right;\">\n",
       "      <th></th>\n",
       "      <th>title</th>\n",
       "      <th>user1</th>\n",
       "      <th>plot</th>\n",
       "      <th>genre</th>\n",
       "    </tr>\n",
       "  </thead>\n",
       "  <tbody>\n",
       "    <tr>\n",
       "      <th>0</th>\n",
       "      <td>Scary Tales (2014)</td>\n",
       "      <td>0.258616</td>\n",
       "      <td>SCARY TALES is a unique horror anthology feat...</td>\n",
       "      <td>horror</td>\n",
       "    </tr>\n",
       "    <tr>\n",
       "      <th>1</th>\n",
       "      <td>Midnight Abyss (2011)</td>\n",
       "      <td>0.249396</td>\n",
       "      <td>Midnight Abyss is a psychological horror film...</td>\n",
       "      <td>horror</td>\n",
       "    </tr>\n",
       "  </tbody>\n",
       "</table>\n",
       "</div>"
      ],
      "text/plain": [
       "                     title     user1  \\\n",
       "0      Scary Tales (2014)   0.258616   \n",
       "1   Midnight Abyss (2011)   0.249396   \n",
       "\n",
       "                                                plot   genre  \n",
       "0   SCARY TALES is a unique horror anthology feat...  horror  \n",
       "1   Midnight Abyss is a psychological horror film...  horror  "
      ]
     },
     "execution_count": 29,
     "metadata": {},
     "output_type": "execute_result"
    }
   ],
   "source": [
    "# user 1: thriller and horror\n",
    "print('Number of movies for user 1:', len(user1_df2))\n",
    "user1_df2.head(2)"
   ]
  },
  {
   "cell_type": "code",
   "execution_count": 31,
   "metadata": {},
   "outputs": [
    {
     "data": {
      "image/png": "[encoded data removed]",
      "text/plain": [
       "<Figure size 500x400 with 1 Axes>"
      ]
     },
     "metadata": {},
     "output_type": "display_data"
    }
   ],
   "source": [
    "# plot graph bar with the number of movies per genre\n",
    "import matplotlib.pyplot as plt\n",
    "\n",
    "plt.figure(figsize=(5,4))\n",
    "# plot bar. Colors for horror and thriller = pink. the rest in blue\n",
    "user1_df2['genre'].value_counts().plot(kind='bar', color=['red', 'red', 'blue', 'blue', 'blue', 'blue', 'blue', 'blue', 'blue', 'blue', 'blue', 'blue', 'blue', 'blue', 'blue', 'blue', 'blue', 'blue'])\n",
    "plt.annotate(len(user1_df2), xy=(1, 1), xytext=(-15, -15), ha='right', va='top', xycoords='axes fraction', textcoords='offset points')\n",
    "\n",
    "plt.title('User 1: Horror & Thriller')\n",
    "plt.show()\n"
   ]
  },
  {
   "cell_type": "code",
   "execution_count": 32,
   "metadata": {},
   "outputs": [
    {
     "name": "stdout",
     "output_type": "stream",
     "text": [
      "Number of movies for user 2: 43\n"
     ]
    },
    {
     "data": {
      "text/html": [
       "<div>\n",
       "<style scoped>\n",
       "    .dataframe tbody tr th:only-of-type {\n",
       "        vertical-align: middle;\n",
       "    }\n",
       "\n",
       "    .dataframe tbody tr th {\n",
       "        vertical-align: top;\n",
       "    }\n",
       "\n",
       "    .dataframe thead th {\n",
       "        text-align: right;\n",
       "    }\n",
       "</style>\n",
       "<table border=\"1\" class=\"dataframe\">\n",
       "  <thead>\n",
       "    <tr style=\"text-align: right;\">\n",
       "      <th></th>\n",
       "      <th>title</th>\n",
       "      <th>user2</th>\n",
       "      <th>plot</th>\n",
       "      <th>genre</th>\n",
       "    </tr>\n",
       "  </thead>\n",
       "  <tbody>\n",
       "    <tr>\n",
       "      <th>0</th>\n",
       "      <td>\"Aur Pyaar Ho Gaya\" (2014)</td>\n",
       "      <td>0.346305</td>\n",
       "      <td>Love oh love is about the beautiful love stor...</td>\n",
       "      <td>drama</td>\n",
       "    </tr>\n",
       "    <tr>\n",
       "      <th>1</th>\n",
       "      <td>Ai Hen Lan (2011)</td>\n",
       "      <td>0.321255</td>\n",
       "      <td>Love Actually... Sucks! was inspired by real-...</td>\n",
       "      <td>drama</td>\n",
       "    </tr>\n",
       "  </tbody>\n",
       "</table>\n",
       "</div>"
      ],
      "text/plain": [
       "                          title     user2  \\\n",
       "0   \"Aur Pyaar Ho Gaya\" (2014)   0.346305   \n",
       "1            Ai Hen Lan (2011)   0.321255   \n",
       "\n",
       "                                                plot  genre  \n",
       "0   Love oh love is about the beautiful love stor...  drama  \n",
       "1   Love Actually... Sucks! was inspired by real-...  drama  "
      ]
     },
     "execution_count": 32,
     "metadata": {},
     "output_type": "execute_result"
    }
   ],
   "source": [
    "# user 2: drama and romance\n",
    "print('Number of movies for user 2:', len(user2_df2))   \n",
    "user2_df2.head(2)"
   ]
  },
  {
   "cell_type": "code",
   "execution_count": 33,
   "metadata": {},
   "outputs": [
    {
     "data": {
      "image/png": "[encoded data removed]",
      "text/plain": [
       "<Figure size 500x400 with 1 Axes>"
      ]
     },
     "metadata": {},
     "output_type": "display_data"
    }
   ],
   "source": [
    "plt.figure(figsize=(5,4))\n",
    "# plot bar. Colors for drama and romance = pink. the rest in blue\n",
    "user2_df2['genre'].value_counts().plot(kind='bar', color=['red', 'blue', 'red', 'blue', 'blue', 'blue', 'blue', 'blue', 'blue', 'blue', 'blue', 'blue', 'blue', 'blue', 'blue'])\n",
    "plt.annotate(len(user2_df2), xy=(1, 1), xytext=(-15, -15), ha='right', va='top', xycoords='axes fraction', textcoords='offset points')\n",
    "\n",
    "plt.title('User 2: Drama & Romance')\n",
    "plt.show()"
   ]
  },
  {
   "cell_type": "code",
   "execution_count": 34,
   "metadata": {},
   "outputs": [
    {
     "name": "stdout",
     "output_type": "stream",
     "text": [
      "Number of movies for user 3: 48\n"
     ]
    },
    {
     "data": {
      "text/html": [
       "<div>\n",
       "<style scoped>\n",
       "    .dataframe tbody tr th:only-of-type {\n",
       "        vertical-align: middle;\n",
       "    }\n",
       "\n",
       "    .dataframe tbody tr th {\n",
       "        vertical-align: top;\n",
       "    }\n",
       "\n",
       "    .dataframe thead th {\n",
       "        text-align: right;\n",
       "    }\n",
       "</style>\n",
       "<table border=\"1\" class=\"dataframe\">\n",
       "  <thead>\n",
       "    <tr style=\"text-align: right;\">\n",
       "      <th></th>\n",
       "      <th>title</th>\n",
       "      <th>user3</th>\n",
       "      <th>plot</th>\n",
       "      <th>genre</th>\n",
       "    </tr>\n",
       "  </thead>\n",
       "  <tbody>\n",
       "    <tr>\n",
       "      <th>0</th>\n",
       "      <td>\"Aur Pyaar Ho Gaya\" (2014)</td>\n",
       "      <td>0.335573</td>\n",
       "      <td>Love oh love is about the beautiful love stor...</td>\n",
       "      <td>drama</td>\n",
       "    </tr>\n",
       "    <tr>\n",
       "      <th>1</th>\n",
       "      <td>Flipped or Not (2015)</td>\n",
       "      <td>0.311832</td>\n",
       "      <td>Flipped or Not is a 2015 Chinese movie. The m...</td>\n",
       "      <td>romance</td>\n",
       "    </tr>\n",
       "  </tbody>\n",
       "</table>\n",
       "</div>"
      ],
      "text/plain": [
       "                          title     user3  \\\n",
       "0   \"Aur Pyaar Ho Gaya\" (2014)   0.335573   \n",
       "1        Flipped or Not (2015)   0.311832   \n",
       "\n",
       "                                                plot    genre  \n",
       "0   Love oh love is about the beautiful love stor...    drama  \n",
       "1   Flipped or Not is a 2015 Chinese movie. The m...  romance  "
      ]
     },
     "execution_count": 34,
     "metadata": {},
     "output_type": "execute_result"
    }
   ],
   "source": [
    "# user 3: comedy and romance\n",
    "print('Number of movies for user 3:', len(user3_df2))\n",
    "user3_df2.head(2)\n"
   ]
  },
  {
   "cell_type": "code",
   "execution_count": 36,
   "metadata": {},
   "outputs": [
    {
     "data": {
      "image/png": "[encoded data removed]",
      "text/plain": [
       "<Figure size 500x400 with 1 Axes>"
      ]
     },
     "metadata": {},
     "output_type": "display_data"
    }
   ],
   "source": [
    "plt.figure(figsize=(5,4))\n",
    "# plot bar. Colors for comedy and romance = pink. the rest in blue\n",
    "user3_df2['genre'].value_counts().plot(kind='bar', color=['blue', 'red', 'red', 'blue', 'blue', 'blue', 'blue', 'blue', 'blue', 'blue', 'blue', 'blue', 'blue', 'blue', 'blue'])\n",
    "# anotate the number of movies for the user (len(user3_df2)) upper right corner\n",
    "plt.annotate(len(user3_df2), xy=(1, 1), xytext=(-15, -15), ha='right', va='top', xycoords='axes fraction', textcoords='offset points')\n",
    "plt.title('User 3: Comedy & Romance')\n",
    "plt.show()"
   ]
  },
  {
   "cell_type": "code",
   "execution_count": 37,
   "metadata": {},
   "outputs": [
    {
     "name": "stdout",
     "output_type": "stream",
     "text": [
      "Number of movies for user 4: 129\n"
     ]
    },
    {
     "data": {
      "text/html": [
       "<div>\n",
       "<style scoped>\n",
       "    .dataframe tbody tr th:only-of-type {\n",
       "        vertical-align: middle;\n",
       "    }\n",
       "\n",
       "    .dataframe tbody tr th {\n",
       "        vertical-align: top;\n",
       "    }\n",
       "\n",
       "    .dataframe thead th {\n",
       "        text-align: right;\n",
       "    }\n",
       "</style>\n",
       "<table border=\"1\" class=\"dataframe\">\n",
       "  <thead>\n",
       "    <tr style=\"text-align: right;\">\n",
       "      <th></th>\n",
       "      <th>title</th>\n",
       "      <th>user4</th>\n",
       "      <th>plot</th>\n",
       "      <th>genre</th>\n",
       "    </tr>\n",
       "  </thead>\n",
       "  <tbody>\n",
       "    <tr>\n",
       "      <th>0</th>\n",
       "      <td>Sachi's Quest (2006)</td>\n",
       "      <td>0.264246</td>\n",
       "      <td>In a very dark far future, an elite female ag...</td>\n",
       "      <td>adventure</td>\n",
       "    </tr>\n",
       "    <tr>\n",
       "      <th>1</th>\n",
       "      <td>Watch the Skies (2018)</td>\n",
       "      <td>0.261496</td>\n",
       "      <td>When a small starship crashes to earth, it is...</td>\n",
       "      <td>animation</td>\n",
       "    </tr>\n",
       "  </tbody>\n",
       "</table>\n",
       "</div>"
      ],
      "text/plain": [
       "                      title     user4  \\\n",
       "0     Sachi's Quest (2006)   0.264246   \n",
       "1   Watch the Skies (2018)   0.261496   \n",
       "\n",
       "                                                plot      genre  \n",
       "0   In a very dark far future, an elite female ag...  adventure  \n",
       "1   When a small starship crashes to earth, it is...  animation  "
      ]
     },
     "execution_count": 37,
     "metadata": {},
     "output_type": "execute_result"
    }
   ],
   "source": [
    "# user 4: action and sci-fi\n",
    "print('Number of movies for user 4:', len(user4_df2))\n",
    "user4_df2.head(2)\n",
    "\n"
   ]
  },
  {
   "cell_type": "code",
   "execution_count": 38,
   "metadata": {},
   "outputs": [
    {
     "data": {
      "image/png": "[encoded data removed]",
      "text/plain": [
       "<Figure size 500x400 with 1 Axes>"
      ]
     },
     "metadata": {},
     "output_type": "display_data"
    }
   ],
   "source": [
    "plt.figure(figsize=(5,4))\n",
    "# plot bar. Colors for action and sci-fi = pink. the rest in blue\n",
    "user4_df2['genre'].value_counts().plot(kind='bar', color=['red', 'blue', 'blue', 'blue', 'blue', 'blue', 'blue', 'blue', 'blue', 'blue', 'blue', 'blue', 'blue', 'blue', 'blue'])\n",
    "plt.annotate(len(user4_df2), xy=(1, 1), xytext=(-15, -15), ha='right', va='top', xycoords='axes fraction', textcoords='offset points')\n",
    "\n",
    "plt.title('User 4: Action & Sci-fi')\n",
    "plt.show()"
   ]
  },
  {
   "cell_type": "code",
   "execution_count": 39,
   "metadata": {},
   "outputs": [
    {
     "name": "stdout",
     "output_type": "stream",
     "text": [
      "Number of movies for user 5: 75\n"
     ]
    },
    {
     "data": {
      "text/html": [
       "<div>\n",
       "<style scoped>\n",
       "    .dataframe tbody tr th:only-of-type {\n",
       "        vertical-align: middle;\n",
       "    }\n",
       "\n",
       "    .dataframe tbody tr th {\n",
       "        vertical-align: top;\n",
       "    }\n",
       "\n",
       "    .dataframe thead th {\n",
       "        text-align: right;\n",
       "    }\n",
       "</style>\n",
       "<table border=\"1\" class=\"dataframe\">\n",
       "  <thead>\n",
       "    <tr style=\"text-align: right;\">\n",
       "      <th></th>\n",
       "      <th>title</th>\n",
       "      <th>user5</th>\n",
       "      <th>plot</th>\n",
       "      <th>genre</th>\n",
       "    </tr>\n",
       "  </thead>\n",
       "  <tbody>\n",
       "    <tr>\n",
       "      <th>0</th>\n",
       "      <td>Strange Visitors &amp; Other Tales (2001)</td>\n",
       "      <td>0.279951</td>\n",
       "      <td>Three bondage-filled vignettes from Harmony C...</td>\n",
       "      <td>adventure</td>\n",
       "    </tr>\n",
       "    <tr>\n",
       "      <th>1</th>\n",
       "      <td>Costume Girls Captured on Film (2010)</td>\n",
       "      <td>0.268415</td>\n",
       "      <td>Costume-clad cuties are captured, bound and g...</td>\n",
       "      <td>adventure</td>\n",
       "    </tr>\n",
       "  </tbody>\n",
       "</table>\n",
       "</div>"
      ],
      "text/plain": [
       "                                     title     user5  \\\n",
       "0   Strange Visitors & Other Tales (2001)   0.279951   \n",
       "1   Costume Girls Captured on Film (2010)   0.268415   \n",
       "\n",
       "                                                plot      genre  \n",
       "0   Three bondage-filled vignettes from Harmony C...  adventure  \n",
       "1   Costume-clad cuties are captured, bound and g...  adventure  "
      ]
     },
     "execution_count": 39,
     "metadata": {},
     "output_type": "execute_result"
    }
   ],
   "source": [
    "# user 5: adventure\n",
    "print('Number of movies for user 5:', len(user5_df2))\n",
    "user5_df2.head(2)"
   ]
  },
  {
   "cell_type": "code",
   "execution_count": 40,
   "metadata": {},
   "outputs": [
    {
     "data": {
      "image/png": "[encoded data removed]",
      "text/plain": [
       "<Figure size 500x400 with 1 Axes>"
      ]
     },
     "metadata": {},
     "output_type": "display_data"
    }
   ],
   "source": [
    "plt.figure(figsize=(5,4))\n",
    "# plot bar. Colors for adventure = pink. the rest in blue\n",
    "user5_df2['genre'].value_counts().plot(kind='bar', color=['red','blue', 'blue', 'blue', 'blue', 'blue', 'blue', 'blue', 'blue', 'blue','blue', 'blue', 'blue', 'blue'])\n",
    "plt.annotate(len(user5_df2), xy=(1, 1), xytext=(-15, -15), ha='right', va='top', xycoords='axes fraction', textcoords='offset points')\n",
    "\n",
    "plt.title('User 5: Adventure')\n",
    "plt.show()\n",
    "                                                "
   ]
  },
  {
   "cell_type": "markdown",
   "metadata": {},
   "source": [
    "# Evaluating"
   ]
  },
  {
   "cell_type": "code",
   "execution_count": 72,
   "metadata": {},
   "outputs": [],
   "source": [
    "def evaluation(user_df, test_df, topics):\n",
    "    pos = user_df['title'].values\n",
    "    neg = [title for title in test_df['title'].values if title not in pos]\n",
    "    \n",
    "    # TP\n",
    "    tp = user_df[user_df['genre'].isin(topics)].shape[0]\n",
    "    # FP\n",
    "    fp = user_df[~user_df['genre'].isin(topics)].shape[0]\n",
    "    # TN\n",
    "    tn = len([title for title in neg if clean_test_df[clean_test_df['title'] == title]['genre'].values[0] not in topics])\n",
    "    # FN\n",
    "    fn = len([title for title in neg if clean_test_df[clean_test_df['title'] == title]['genre'].values[0] in topics])\n",
    "    \n",
    "    return tp, fp, tn, fn\n",
    "\n",
    "topics_interest = [['thriller', 'horror'], ['drama', 'romance'], ['comedy', 'romance'], ['action', 'sci-fi'], ['adventure']]\n",
    "users_dfs = [user1_df2, user2_df2, user3_df2, user4_df2, user5_df2]"
   ]
  },
  {
   "cell_type": "code",
   "execution_count": 73,
   "metadata": {},
   "outputs": [],
   "source": [
    "evaluations = []\n",
    "for i in range(len(users_dfs)):\n",
    "    evaluations.append(evaluation(users_dfs[i], clean_test_df, topics_interest[i]))"
   ]
  },
  {
   "cell_type": "code",
   "execution_count": 74,
   "metadata": {},
   "outputs": [
    {
     "data": {
      "text/plain": [
       "[(159, 92, 50314, 3635),\n",
       " (27, 16, 39900, 14257),\n",
       " (19, 29, 46053, 8099),\n",
       " (66, 63, 52177, 1894),\n",
       " (48, 27, 53398, 727)]"
      ]
     },
     "execution_count": 74,
     "metadata": {},
     "output_type": "execute_result"
    }
   ],
   "source": [
    "evaluations"
   ]
  },
  {
   "cell_type": "code",
   "execution_count": 81,
   "metadata": {},
   "outputs": [],
   "source": [
    "def metrics(tp, fp, tn, fn):\n",
    "    accuracy = (tp + tn) / (tp + fp + tn + fn)\n",
    "    precision = tp / (tp + fp)\n",
    "    recall = tp / (tp + fn)\n",
    "    f1 = 2 * precision * recall / (precision + recall)\n",
    "    return accuracy, precision, recall, f1\n",
    "\n",
    "\n",
    "\n",
    "    "
   ]
  },
  {
   "cell_type": "code",
   "execution_count": 88,
   "metadata": {},
   "outputs": [
    {
     "name": "stdout",
     "output_type": "stream",
     "text": [
      "User 1\n",
      "Accuracy: 0.93\n",
      "Precision: 0.63\n",
      "Recall: 0.04\n",
      "F1 Score: 0.08\n",
      "[159, 92]\n",
      "[3635, 50314]\n",
      "\n",
      "\n",
      "User 2\n",
      "Accuracy: 0.74\n",
      "Precision: 0.63\n",
      "Recall: 0.00\n",
      "F1 Score: 0.00\n",
      "[27, 16]\n",
      "[14257, 39900]\n",
      "\n",
      "\n",
      "User 3\n",
      "Accuracy: 0.85\n",
      "Precision: 0.40\n",
      "Recall: 0.00\n",
      "F1 Score: 0.00\n",
      "[19, 29]\n",
      "[8099, 46053]\n",
      "\n",
      "\n",
      "User 4\n",
      "Accuracy: 0.96\n",
      "Precision: 0.51\n",
      "Recall: 0.03\n",
      "F1 Score: 0.06\n",
      "[66, 63]\n",
      "[1894, 52177]\n",
      "\n",
      "\n",
      "User 5\n",
      "Accuracy: 0.99\n",
      "Precision: 0.64\n",
      "Recall: 0.06\n",
      "F1 Score: 0.11\n",
      "[48, 27]\n",
      "[727, 53398]\n",
      "\n",
      "\n"
     ]
    }
   ],
   "source": [
    "# PRINT METRICS FOR EACH USER\n",
    "for i in range(len(evaluations)):\n",
    "    tp, fp, tn, fn = evaluations[i]\n",
    "    accuracy, precision, recall, f1 = metrics(tp, fp, tn, fn)\n",
    "    print(f'User {i + 1}')\n",
    "    print(f'Accuracy: {accuracy:.2f}')\n",
    "    print(f'Precision: {precision:.2f}')\n",
    "    print(f'Recall: {recall:.2f}')\n",
    "    print(f'F1 Score: {f1:.2f}')\n",
    "    print([tp, fp])\n",
    "    print([fn, tn])\n",
    "    print('\\n')"
   ]
  },
  {
   "cell_type": "code",
   "execution_count": null,
   "metadata": {},
   "outputs": [],
   "source": []
  }
 ],
 "metadata": {
  "kernelspec": {
   "display_name": "info_retrieval",
   "language": "python",
   "name": "python3"
  },
  "language_info": {
   "codemirror_mode": {
    "name": "ipython",
    "version": 3
   },
   "file_extension": ".py",
   "mimetype": "text/x-python",
   "name": "python",
   "nbconvert_exporter": "python",
   "pygments_lexer": "ipython3",
   "version": "3.12.1"
  }
 },
 "nbformat": 4,
 "nbformat_minor": 2
}
